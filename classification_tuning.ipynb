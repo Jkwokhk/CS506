{
 "cells": [
  {
   "cell_type": "code",
   "execution_count": null,
   "id": "537c61a0-fd07-4004-b097-5ee4604b0baa",
   "metadata": {},
   "outputs": [],
   "source": [
    "import pandas as pd\n",
    "from sklearn.model_selection import GridSearchCV, train_test_split\n",
    "from sklearn.naive_bayes import MultinomialNB\n",
    "from sklearn.metrics import accuracy_score, classification_report\n",
    "from sklearn.neighbors import KNeighborsClassifier\n",
    "from sklearn.tree import DecisionTreeClassifier"
   ]
  },
  {
   "cell_type": "code",
   "execution_count": null,
   "id": "8c441738-19e3-4fb9-8c2a-3216751e36f8",
   "metadata": {},
   "outputs": [],
   "source": [
    "# Split data\n",
    "X_train, X_test, y_train, y_test = train_test_split(\n",
    "    X_tfidf,     # input features \n",
    "    y,           # input ground truth \n",
    "    test_size=0.2, \n",
    ")"
   ]
  },
  {
   "cell_type": "markdown",
   "id": "a0ad37a3-0d4b-4dcb-83a2-540ccc7c47b7",
   "metadata": {},
   "source": [
    "KNN Tuning  "
   ]
  },
  {
   "cell_type": "code",
   "execution_count": null,
   "id": "19124d5a-475e-4aff-84a3-ef5a95d868e7",
   "metadata": {},
   "outputs": [],
   "source": [
    "# Define parameter grid\n",
    "param_grid = {\n",
    "    'n_neighbors': [3, 5, 10, 20, 50],\n",
    "    'weights': ['uniform', 'distance'],\n",
    "    'metric': ['euclidean', 'manhattan']\n",
    "}\n",
    "\n",
    "knn = KNeighborsClassifier()  # base classifier\n",
    "\n",
    "# Use cross-validation to find the best combo\n",
    "grid_search = GridSearchCV(\n",
    "    knn,\n",
    "    param_grid=param_grid,\n",
    "    scoring='accuracy', \n",
    "    cv=5,        # 5-fold cross-validation\n",
    "    n_jobs=-1,   \n",
    "    verbose=1    # print progress\n",
    ")\n",
    "\n",
    "grid_search.fit(X_train, y_train)\n",
    "\n",
    "# Print the best parameters and best cross-validation score\n",
    "print(\"Best Parameters:\", grid_search.best_params_)\n",
    "print(\"Best CV Score:\", grid_search.best_score_)\n",
    "\n",
    "# Evaluate on the test set\n",
    "best_knn = grid_search.best_estimator_\n",
    "y_pred = best_knn.predict(X_test)\n",
    "test_accuracy = accuracy_score(y_test, y_pred)\n",
    "print(\"Test Accuracy (best kNN):\", test_accuracy)\n",
    "print(\"Classification Report:\\n\", classification_report(y_test, y_pred))"
   ]
  },
  {
   "cell_type": "markdown",
   "id": "995eacb4-1af9-4ebb-80d3-789676ded19b",
   "metadata": {},
   "source": [
    "Decision Tree Tuning"
   ]
  },
  {
   "cell_type": "code",
   "execution_count": null,
   "id": "684a4511-8bcb-4f65-b81a-7b6b4f92b607",
   "metadata": {},
   "outputs": [],
   "source": [
    "# Define the parameter grid\n",
    "param_grid = {\n",
    "    'max_depth': [10, 20, 50],       \n",
    "    'min_samples_split': [2, 5, 10], # minimum number of samples required to split an internal node.\n",
    "    'min_samples_leaf': [1, 2, 5],  # minimum number of samples required to be in a leaf node.\n",
    "    'criterion': ['gini', 'entropy']\n",
    "}\n",
    "\n",
    "# Instantiate DecisionTreeClassifier\n",
    "dt = DecisionTreeClassifier(random_state=42)\n",
    "\n",
    "# Use cross-validation to find the best combo\n",
    "grid_search = GridSearchCV(\n",
    "    estimator=dt,\n",
    "    param_grid=param_grid,\n",
    "    scoring='accuracy',   \n",
    "    cv=5,                 # 5-fold cross-validation\n",
    "    n_jobs=-1,            \n",
    "    verbose=1             # print progress\n",
    ")\n",
    "\n",
    "# Fit \n",
    "grid_search.fit(X_train, y_train)\n",
    "\n",
    "# See which parameters performed best\n",
    "print(\"Best Parameters:\", grid_search.best_params_)\n",
    "print(\"Best CV Score:\", grid_search.best_score_)\n",
    "\n",
    "# Evaluate on the test set\n",
    "best_dt = grid_search.best_estimator_\n",
    "y_pred = best_dt.predict(X_test)\n",
    "\n",
    "accuracy = accuracy_score(y_test, y_pred)\n",
    "print(\"Test Accuracy (best DT):\", accuracy)\n",
    "print(\"Classification Report:\\n\", classification_report(y_test, y_pred))"
   ]
  },
  {
   "cell_type": "markdown",
   "id": "573604a6-52aa-4a57-bc1d-10b15bbd75ce",
   "metadata": {},
   "source": [
    "Naive Bayes Tuning"
   ]
  },
  {
   "cell_type": "code",
   "execution_count": null,
   "id": "6d4c2a13-19fc-4edd-ac87-b68e08731de5",
   "metadata": {},
   "outputs": [],
   "source": [
    "# Define the parameter grid\n",
    "param_grid = {\n",
    "    'alpha': [0.01, 0.1, 1.0, 2.0, 5.0],  \n",
    "    'fit_prior': [True, False]           \n",
    "}\n",
    "\n",
    "# Instantiate base model\n",
    "nb_model = MultinomialNB()\n",
    "\n",
    "# Create the GridSearchCV object\n",
    "grid_search = GridSearchCV(\n",
    "    estimator=nb_model,\n",
    "    param_grid=param_grid,\n",
    "    scoring='accuracy',\n",
    "    cv=5,          # 5-fold cross-validation\n",
    "    n_jobs=-1,    \n",
    "    verbose=1\n",
    ")\n",
    "grid_search.fit(X_train, y_train)\n",
    "\n",
    "# Evaluate on the best model\n",
    "best_nb = grid_search.best_estimator_\n",
    "print(\"Best Parameters:\", grid_search.best_params_)\n",
    "print(\"Best CV Accuracy:\", grid_search.best_score_)\n",
    "\n",
    "y_pred = best_nb.predict(X_test)\n",
    "test_acc = accuracy_score(y_test, y_pred)\n",
    "print(\"\\nTest Accuracy:\", test_acc)\n",
    "print(\"Classification Report:\\n\", classification_report(y_test, y_pred))\n"
   ]
  }
 ],
 "metadata": {
  "kernelspec": {
   "display_name": "Python [conda env:base] *",
   "language": "python",
   "name": "conda-base-py"
  },
  "language_info": {
   "codemirror_mode": {
    "name": "ipython",
    "version": 3
   },
   "file_extension": ".py",
   "mimetype": "text/x-python",
   "name": "python",
   "nbconvert_exporter": "python",
   "pygments_lexer": "ipython3",
   "version": "3.12.7"
  }
 },
 "nbformat": 4,
 "nbformat_minor": 5
}
